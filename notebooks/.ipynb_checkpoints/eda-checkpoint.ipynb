{
 "cells": [
  {
   "cell_type": "markdown",
   "metadata": {},
   "source": [
    "# Exploratory Data Analysis (EDA) Notebook\n",
    "\n",
    "This notebook provides an example of how to perform Exploratory Data Analysis on the crop stress detection dataset. It covers loading data, visualizing class distribution, and displaying sample images.\n",
    "\n",
    "**To use this notebook:**\n",
    "\n",
    "1.  Ensure you have Jupyter Notebook or JupyterLab installed (`pip install jupyter`).\n",
    "2.  Navigate to the project's root directory in your terminal.\n",
    "3.  Activate your virtual environment (`.\\venv\\Scripts\\activate` on Windows or `source venv/bin/activate` on macOS/Linux).\n",
    "4.  Start Jupyter Notebook/Lab: `jupyter notebook` or `jupyter lab`.\n",
    "5.  Open this `eda.ipynb` file.\n",
    "\n",
    "**Note:** You will need to have your dataset placed in the `data/images/Dataset/` directory as described in `data/README.md` for this notebook to function properly."
   ]
  },
  {
   "cell_type": "code",
   "execution_count": null,
   "metadata": {},
   "outputs": [
    {
     "ename": "",
     "evalue": "",
     "output_type": "error",
     "traceback": [
      "\u001b[1;31mRunning cells with 'venv (Python 3.12.6)' requires the ipykernel package.\n",
      "\u001b[1;31mInstall 'ipykernel' into the Python environment. \n",
      "\u001b[1;31mCommand: 'c:/Users/ASUS/Desktop/Sumit/vscode/venv/Scripts/python.exe -m pip install ipykernel -U --force-reinstall'"
     ]
    }
   ],
   "source": [
    "import os\n",
    "import matplotlib.pyplot as plt\n",
    "import numpy as np\n",
    "from tensorflow.keras.preprocessing.image import ImageDataGenerator\n",
    "from collections import Counter\n",
    "import random\n",
    "from PIL import Image # Import Pillow for image handling\n",
    "\n",
    "# Define the base data directory (adjust if your project structure is different)\n",
    "base_data_dir = \"../data/images/Dataset\"\n",
    "train_data_dir = os.path.join(base_data_dir, \"train\")\n",
    "val_data_dir = os.path.join(base_data_dir, \"val\")\n",
    "test_data_dir = os.path.join(base_data_dir, \"test\")\n",
    "\n",
    "print(f\"Train data directory: {train_data_dir}\")\n",
    "print(f\"Validation data directory: {val_data_dir}\")\n",
    "print(f\"Test data directory: {test_data_dir}\")"
   ]
  },
  {
   "cell_type": "markdown",
   "metadata": {},
   "source": [
    "## 1. Check Dataset Existence and Structure"
   ]
  },
  {
   "cell_type": "code",
   "execution_count": null,
   "metadata": {},
   "outputs": [],
   "source": [
    "def check_directory(path):\n",
    "    if os.path.exists(path):\n",
    "        print(f\"Directory exists: {path}\")\n",
    "        subdirs = [d for d in os.listdir(path) if os.path.isdir(os.path.join(path, d))]\n",
    "        if subdirs:\n",
    "            print(f\"  Found classes: {', '.join(subdirs)}\")\n",
    "        else:\n",
    "            print(\"  No class subdirectories found. Please ensure data is organized by class.\")\n",
    "    else:\n",
    "        print(f\"Directory NOT found: {path}. Please ensure your dataset is correctly placed.\")\n",
    "\n",
    "print(\"Checking training data directory:\")\n",
    "check_directory(train_data_dir)\n",
    "print(\"\\nChecking validation data directory:\")\n",
    "check_directory(val_data_dir)\n",
    "print(\"\\nChecking test data directory:\")\n",
    "check_directory(test_data_dir)"
   ]
  },
  {
   "cell_type": "markdown",
   "metadata": {},
   "source": [
    "## 2. Visualize Class Distribution"
   ]
  },
  {
   "cell_type": "code",
   "execution_count": null,
   "metadata": {},
   "outputs": [
    {
     "ename": "",
     "evalue": "",
     "output_type": "error",
     "traceback": [
      "\u001b[1;31mRunning cells with 'venv (Python 3.12.6)' requires the ipykernel package.\n",
      "\u001b[1;31mInstall 'ipykernel' into the Python environment. \n",
      "\u001b[1;31mCommand: 'c:/Users/ASUS/Desktop/Sumit/vscode/venv/Scripts/python.exe -m pip install ipykernel -U --force-reinstall'"
     ]
    }
   ],
   "source": [
    "def get_class_distribution(data_dir):\n",
    "    class_counts = Counter()\n",
    "    if os.path.exists(data_dir):\n",
    "        for class_name in os.listdir(data_dir):\n",
    "            class_path = os.path.join(data_dir, class_name)\n",
    "            if os.path.isdir(class_path):\n",
    "                class_counts[class_name] = len([f for f in os.listdir(class_path) if f.lower().endswith(('.png', '.jpg', '.jpeg'))])\n",
    "    return class_counts\n",
    "\n",
    "train_class_counts = get_class_distribution(train_data_dir)\n",
    "val_class_counts = get_class_distribution(val_data_dir)\n",
    "test_class_counts = get_class_distribution(test_data_dir)\n",
    "\n",
    "print(\"\\nTraining Data Class Distribution:\")\n",
    "for cls, count in train_class_counts.items():\n",
    "    print(f\"  {cls}: {count} images\")\n",
    "\n",
    "print(\"\\nValidation Data Class Distribution:\")\n",
    "for cls, count in val_class_counts.items():\n",
    "    print(f\"  {cls}: {count} images\")\n",
    "\n",
    "print(\"\\nTest Data Class Distribution:\")\n",
    "for cls, count in test_class_counts.items():\n",
    "    print(f\"  {cls}: {count} images\")\n",
    "\n",
    "def plot_distribution(counts, title):\n",
    "    if not counts:\n",
    "        print(f\"No data to plot for {title}\")\n",
    "        return\n",
    "    labels = list(counts.keys())\n",
    "    values = list(counts.values())\n",
    "    \n",
    "    plt.figure(figsize=(10, 6))\n",
    "    plt.bar(labels, values, color='skyblue')\n",
    "    plt.xlabel('Class')\n",
    "    plt.ylabel('Number of Images')\n",
    "    plt.title(title)\n",
    "    plt.xticks(rotation=45, ha='right')\n",
    "    plt.tight_layout()\n",
    "    plt.show()\n",
    "\n",
    "plot_distribution(train_class_counts, 'Training Data Class Distribution')\n",
    "plot_distribution(val_class_counts, 'Validation Data Class Distribution')\n",
    "plot_distribution(test_class_counts, 'Test Data Class Distribution')"
   ]
  },
  {
   "cell_type": "markdown",
   "metadata": {},
   "source": [
    "## 3. Display Sample Images"
   ]
  },
  {
   "cell_type": "code",
   "execution_count": null,
   "metadata": {},
   "outputs": [],
   "source": [
    "def display_sample_images(data_dir, num_images=5):\n",
    "    print(f\"\\nDisplaying {num_images} sample images from {data_dir}:\")\n",
    "    class_names = [d for d in os.listdir(data_dir) if os.path.isdir(os.path.join(data_dir, d))]\n",
    "    \n",
    "    if not class_names:\n",
    "        print(\"No classes found to display images.\")\n",
    "        return\n",
    "\n",
    "    plt.figure(figsize=(15, 8))\n",
    "    for i in range(num_images):\n",
    "        random_class = random.choice(class_names)\n",
    "        class_path = os.path.join(data_dir, random_class)\n",
    "        \n",
    "        images_in_class = [f for f in os.listdir(class_path) if f.lower().endswith(('.png', '.jpg', '.jpeg'))]\n",
    "        if not images_in_class:\n",
    "            print(f\"No images found in class: {random_class}\")\n",
    "            continue\n",
    "            \n",
    "        random_image_name = random.choice(images_in_class)\n",
    "        image_path = os.path.join(class_path, random_image_name)\n",
    "        \n",
    "        try:\n",
    "            img = Image.open(image_path)\n",
    "            plt.subplot(1, num_images, i + 1)\n",
    "            plt.imshow(img)\n",
    "            plt.title(f\"Class: {random_class}\")\n",
    "            plt.axis('off')\n",
    "        except Exception as e:\n",
    "            print(f\"Could not load image {image_path}: {e}\")\n",
    "            \n",
    "    plt.tight_layout()\n",
    "    plt.show()\n",
    "\n",
    "display_sample_images(train_data_dir, num_images=5)\n",
    "display_sample_images(val_data_dir, num_images=5)\n",
    "display_sample_images(test_data_dir, num_images=5)"
   ]
  },
  {
   "cell_type": "markdown",
   "metadata": {},
   "source": [
    "## 4. Further EDA (Suggestions)\n",
    "\n",
    "Consider adding more advanced EDA steps:\n",
    "\n",
    "*   **Image Properties**: Analyze average image dimensions, color channel distributions.\n",
    "*   **Data Augmentation Visualization**: Show examples of augmented images.\n",
    "*   **Correlation with Metadata**: If you have `train.csv`/`test.csv` with additional metadata, analyze correlations between features and labels.\n",
    "*   **Outlier Detection**: Identify and visualize any unusual images."
   ]
  }
 ],
 "metadata": {
  "kernelspec": {
   "display_name": "venv",
   "language": "python",
   "name": "python3"
  },
  "language_info": {
   "codemirror_mode": {
    "name": "ipython",
    "version": 3
   },
   "file_extension": ".py",
   "mimetype": "text/x-python",
   "name": "python",
   "nbconvert_exporter": "python",
   "pygments_lexer": "ipython3",
   "version": "3.12.6"
  }
 },
 "nbformat": 4,
 "nbformat_minor": 4
}
